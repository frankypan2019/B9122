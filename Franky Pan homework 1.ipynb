{
 "cells": [
  {
   "cell_type": "code",
   "execution_count": null,
   "metadata": {},
   "outputs": [],
   "source": [
    "float_rate = float(input('Enter your interest rate'))\n",
    "int_n = int(input('please enter an period'))\n",
    "int_pv = int(input('please enter a principle'))\n",
    "int_fv = int(input('please enter a future value'))\n",
    "def emi(float_rate,int_n,int_pv,int_fv):\n",
    "    emi = (int_pv+(int_fv/(1+float_rate)**int_n))*((float_rate*(float_rate+1)**int_n)/((1+float_rate)**int_n-1))\n",
    "    print(emi)\n",
    "emi(float_rate,int_n,int_pv,int_fv)"
   ]
  },
  {
   "cell_type": "code",
   "execution_count": null,
   "metadata": {},
   "outputs": [],
   "source": [
    "filename = str(input('please enter your file name'))\n",
    "file=open(filename)\n",
    "wordcount={}\n",
    "for x in file.read().split():\n",
    "    if x not in wordcount:\n",
    "        wordcount[x] = 1\n",
    "    else:\n",
    "        wordcount[x] += 1\n",
    "wordcount1 = dict(sorted(wordcount.items(),key = lambda kv:kv[1],reverse = True))\n",
    "print(wordcount1)\n",
    "for key,value in wordcount1.items():\n",
    "    print(key,value,'\\n')\n",
    "file.close();\n",
    "file2 = open('answer1.txt','w')\n",
    "for key, value in wordcount1.items():\n",
    "    file2.write(key+\"  \"+str(value)+'\\n')\n",
    "file2.close()"
   ]
  },
  {
   "cell_type": "code",
   "execution_count": 3,
   "metadata": {},
   "outputs": [
    {
     "name": "stdout",
     "output_type": "stream",
     "text": [
      "Numbers of urls seen are 746 and numbers of urls opened are 50\n",
      "\n",
      "Top 25 scoring urls are: [('http://www8.gsb.columbia.edu/researcharchive/articles/11573', 18), ('http://www8.gsb.columbia.edu/researcharchive/articles/25554', 18), ('http://www8.gsb.columbia.edu/researcharchive/articles/26023', 18), ('http://www8.gsb.columbia.edu/researcharchive/articles/25639', 18), ('http://www8.gsb.columbia.edu/researcharchive/articles/25784', 18), ('http://www8.gsb.columbia.edu/researcharchive/articles/15071', 18), ('http://www8.gsb.columbia.edu/researcharchive/articles/17185', 18), ('http://www8.gsb.columbia.edu/researcharchive/articles/14017', 19), ('http://www8.gsb.columbia.edu/researcharchive/articles/17186', 19), ('http://www8.gsb.columbia.edu/researcharchive/articles/25710', 21), ('http://www8.gsb.columbia.edu/cbs-directory/detail/uk2117', 21), ('http://www8.gsb.columbia.edu/cbs-directory/detail/jg3463', 22), ('http://www8.gsb.columbia.edu/researcharchive/articles/6205', 24), ('http://www8.gsb.columbia.edu/cbs-directory/detail/az50', 27), ('http://www8.gsb.columbia.edu/', 28), ('http://www8.gsb.columbia.edu/#mMenuSearch', 28), ('http://www8.gsb.columbia.edu/cbs-directory/detail/tsh1', 31), ('http://www8.gsb.columbia.edu/cbs-directory/detail/sr3269', 35), ('http://www8.gsb.columbia.edu/faculty-research/faculty/faculty-profiles', 36), ('http://www8.gsb.columbia.edu/cbs-directory/detail/dn75', 37), ('http://www8.gsb.columbia.edu/faculty-research', 43), ('http://www8.gsb.columbia.edu/cbs-directory/detail/shp38', 49), ('http://www8.gsb.columbia.edu/faculty-research/faculty/awards', 51), ('http://www8.gsb.columbia.edu/faculty-research/divisions/accounting/faculty-research', 59), ('http://www8.gsb.columbia.edu/researcharchive/getpub/3783/p', 254)]\n"
     ]
    }
   ],
   "source": [
    "from bs4 import BeautifulSoup\n",
    "import urllib.request                              # to open urls \n",
    "import urllib.parse                                # to joint parent and child urls \n",
    "import re                                          # to find keywords in the html test of urls \n",
    "\n",
    "seed_url = \"http://www8.gsb.columbia.edu/\" #the initial URl to start with\n",
    "\n",
    "urls = {seed_url:1}                                #to create a dictionary named urls\n",
    "seen = {seed_url:1}                                #to create a distionaory named url\n",
    "opened = []                                        #to create a list for opened\n",
    "maxNumUrl = 50;                                    #maximum number of URls to visit\n",
    "keywords = ['finance','engineering','business','research'] \n",
    "\n",
    "while len(urls) > 0 and len(opened) < maxNumUrl:\n",
    "    try:\n",
    "        curr_url=max(urls, key=urls.get)           #a) to remove the highest scoring url from urls and assign it to curr_url\n",
    "        urls.pop(curr_url) \n",
    "        webpage=urllib.request.urlopen(curr_url)   #b) add this curr_url to opened if it can be opened\n",
    "        opened.append(curr_url)\n",
    "        soup = BeautifulSoup(webpage, \"html5lib\")        \n",
    "        htmltext=soup.text.lower()                 #c) assign the url's text body to htmltext\n",
    "        score=0                                    #d) count how many occurances of keywords\n",
    "        for word in keywords:\n",
    "            score=score+len(re.findall(word,htmltext))\n",
    "        seen[curr_url]=score                       #e) add this url with is score to seen\n",
    "    except:\n",
    "        continue   \n",
    "    if score>0:\n",
    "        for tag in soup.find_all('a', href = True): \n",
    "            childUrl = tag['href']          \n",
    "            original_childurl = childUrl\n",
    "            childUrl = urllib.parse.urljoin(seed_url, childUrl)\n",
    "            #find all child href tages that are not in seen and add them with parent's score to urls\n",
    "            if seed_url in childUrl and childUrl not in seen:\n",
    "                urls[childUrl]=score\n",
    "                seen[childUrl]=0\n",
    "\n",
    "print (\"Numbers of urls seen are\", len(seen), \"and numbers of urls opened are\", len(opened))\n",
    "urlscore=sorted(seen.items(), key=lambda x:x[1])\n",
    "print (\"\\nTop 25 scoring urls are:\", urlscore[-25:])"
   ]
  },
  {
   "cell_type": "code",
   "execution_count": null,
   "metadata": {},
   "outputs": [],
   "source": []
  }
 ],
 "metadata": {
  "kernelspec": {
   "display_name": "Python 3",
   "language": "python",
   "name": "python3"
  },
  "language_info": {
   "codemirror_mode": {
    "name": "ipython",
    "version": 3
   },
   "file_extension": ".py",
   "mimetype": "text/x-python",
   "name": "python",
   "nbconvert_exporter": "python",
   "pygments_lexer": "ipython3",
   "version": "3.7.3"
  }
 },
 "nbformat": 4,
 "nbformat_minor": 2
}
## just to add a random line
